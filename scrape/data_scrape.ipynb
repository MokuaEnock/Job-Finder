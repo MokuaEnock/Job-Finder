{
 "cells": [
  {
   "cell_type": "code",
   "execution_count": 75,
   "metadata": {},
   "outputs": [],
   "source": [
    "#import modules\n",
    "import selenium\n",
    "import pandas\n",
    "from selenium import webdriver\n",
    "from webdriver_manager.chrome import ChromeDriverManager\n",
    "import warnings \n",
    "warnings.filterwarnings('ignore')\n",
    "from selenium.webdriver.common.by import By\n",
    "from selenium.webdriver.common.action_chains import ActionChains\n",
    "import bs4 as bs\n",
    "import requests\n",
    "import re\n"
   ]
  },
  {
   "cell_type": "code",
   "execution_count": 4,
   "metadata": {},
   "outputs": [
    {
     "name": "stdout",
     "output_type": "stream",
     "text": [
      "\n"
     ]
    }
   ],
   "source": [
    "#getting the driver\n",
    "driver  = webdriver.Chrome(ChromeDriverManager().install())\n",
    "#getting url link\n",
    "url = \"https://www.linkedin.com/jobs/search/?distance=25&geoId=91000000&keywords=full%20stack%20developer\""
   ]
  },
  {
   "cell_type": "code",
   "execution_count": 5,
   "metadata": {},
   "outputs": [],
   "source": [
    "#reading the the page\n",
    "driver.get(url)"
   ]
  },
  {
   "cell_type": "code",
   "execution_count": 13,
   "metadata": {},
   "outputs": [],
   "source": [
    "#get element by class name\n",
    "div_cont = driver.find_element(By.CLASS_NAME, \"base-search-card__info\")\n"
   ]
  },
  {
   "cell_type": "code",
   "execution_count": 23,
   "metadata": {},
   "outputs": [],
   "source": [
    "div_cont_html = div_cont.get_attribute('innerHTML')"
   ]
  },
  {
   "cell_type": "code",
   "execution_count": 37,
   "metadata": {},
   "outputs": [],
   "source": [
    "soup = bs.BeautifulSoup(div_cont_html, \"html.parser\")"
   ]
  },
  {
   "cell_type": "code",
   "execution_count": 87,
   "metadata": {},
   "outputs": [
    {
     "name": "stdout",
     "output_type": "stream",
     "text": [
      "https://ke.linkedin.com/company/burn-co?trk=public_jobs_jserp-result_job-search-card-subtitle\n"
     ]
    }
   ],
   "source": [
    "#job title\n",
    "job_title = (soup.find(\"h3\", class_=\"base-search-card__title\").text).strip()\n",
    "#job location\n",
    "job_location = (soup.find(\"span\", class_=\"job-search-card__location\").text).strip()\n",
    "#company\n",
    "company = (soup.find(\"a\", class_=\"hidden-nested-link\").text).strip()\n",
    "#benefits\n",
    "benefit = (soup.find(\"span\", class_=\"result-benefits__text\").text).strip()\n",
    "#link\n",
    "link =(driver.find_element(By.CLASS_NAME, \"hidden-nested-link\").get_attribute('href'))\n",
    "print(link)"
   ]
  },
  {
   "cell_type": "code",
   "execution_count": 88,
   "metadata": {},
   "outputs": [],
   "source": [
    "#create a dictionary\n",
    "job = {\n",
    "    1 :{\n",
    "        \"Job Title\" : job_title,\n",
    "        \"Job Location\": job_location,\n",
    "        \"Company\" : company,\n",
    "        \"Advantage\" : benefit,\n",
    "        \"Link\" : link\n",
    "    }\n",
    "}"
   ]
  },
  {
   "cell_type": "code",
   "execution_count": 89,
   "metadata": {},
   "outputs": [
    {
     "data": {
      "text/plain": [
       "{1: {'Job Title': 'Software Engineer',\n",
       "  'Job Location': 'Brussels, Brussels Region, Belgium',\n",
       "  'Company': 'Payflip',\n",
       "  'Advantage': 'Be an early applicant',\n",
       "  'Link': 'https://ke.linkedin.com/company/burn-co?trk=public_jobs_jserp-result_job-search-card-subtitle'}}"
      ]
     },
     "execution_count": 89,
     "metadata": {},
     "output_type": "execute_result"
    }
   ],
   "source": [
    "job"
   ]
  },
  {
   "cell_type": "code",
   "execution_count": 70,
   "metadata": {},
   "outputs": [
    {
     "data": {
      "text/plain": [
       "50"
      ]
     },
     "execution_count": 70,
     "metadata": {},
     "output_type": "execute_result"
    }
   ],
   "source": [
    "#get multiple elements by classname\n",
    "div_conts = driver.find_elements(By.CLASS_NAME, \"base-search-card__info\")\n",
    "len(div_conts)"
   ]
  },
  {
   "cell_type": "code",
   "execution_count": 80,
   "metadata": {},
   "outputs": [
    {
     "data": {
      "text/plain": [
       "'<h3 class=\"base-search-card__title\">\\n Software Engineer\\n</h3>\\n<h4 class=\"base-search-card__subtitle\">\\n <a class=\"hidden-nested-link\" data-tracking-client-ingraph=\"\" data-tracking-control-name=\"public_jobs_jserp-result_job-search-card-subtitle\" data-tracking-will-navigate=\"\" href=\"https://be.linkedin.com/company/payflipbe?trk=public_jobs_jserp-result_job-search-card-subtitle\">\\n  Payflip\\n </a>\\n</h4>\\n<!-- -->\\n<div class=\"base-search-card__metadata\">\\n <span class=\"job-search-card__location\">\\n  Brussels, Brussels Region, Belgium\\n </span>\\n <!-- -->\\n <div class=\"job-search-card__benefits\">\\n  <div class=\"result-benefits\">\\n   <icon aria-hidden=\"true\" class=\"result-benefits__icon lazy-loaded\" data-svg-class-name=\"result-benefits__icon-svg\">\\n    <svg class=\"result-benefits__icon-svg lazy-loaded\" fill=\"none\" focusable=\"false\" height=\"24\" viewbox=\"0 0 24 24\" width=\"24\" xmlns=\"http://www.w3.org/2000/svg\">\\n     <path d=\"M14.7 10H17L11.5 18L8 14.5L9.3 13.2L11.2 15.1L14.7 10ZM20 3V19C20 20.7 18.7 22 17 22H7C5.3 22 4 20.7 4 19V3H9.7L10.2 2C10.6 1.4 11.2 1 12 1C12.7 1 13.4 1.4 13.8 2L14.3 3H20ZM18 5H15.4L16 6.1V7H8V6.1L8.6 5H6V19C6 19.6 6.4 20 7 20H17C17.6 20 18 19.6 18 19V5Z\" fill=\"currentColor\">\\n     </path>\\n    </svg>\\n   </icon>\\n   <span class=\"result-benefits__text\">\\n    Be an early applicant\\n    <!-- -->\\n   </span>\\n  </div>\\n </div>\\n <!-- -->\\n <time class=\"job-search-card__listdate--new\" datetime=\"2022-07-26\">\\n  3 hours ago\\n </time>\\n <!-- -->\\n</div>\\n'"
      ]
     },
     "execution_count": 80,
     "metadata": {},
     "output_type": "execute_result"
    }
   ],
   "source": [
    "soup.prettify()"
   ]
  },
  {
   "cell_type": "code",
   "execution_count": null,
   "metadata": {},
   "outputs": [],
   "source": []
  }
 ],
 "metadata": {
  "kernelspec": {
   "display_name": "Python 3.8.10 64-bit",
   "language": "python",
   "name": "python3"
  },
  "language_info": {
   "codemirror_mode": {
    "name": "ipython",
    "version": 3
   },
   "file_extension": ".py",
   "mimetype": "text/x-python",
   "name": "python",
   "nbconvert_exporter": "python",
   "pygments_lexer": "ipython3",
   "version": "3.8.10"
  },
  "orig_nbformat": 4,
  "vscode": {
   "interpreter": {
    "hash": "916dbcbb3f70747c44a77c7bcd40155683ae19c65e1c03b4aa3499c5328201f1"
   }
  }
 },
 "nbformat": 4,
 "nbformat_minor": 2
}

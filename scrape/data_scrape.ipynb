{
 "cells": [
  {
   "cell_type": "code",
   "execution_count": 1,
   "metadata": {},
   "outputs": [
    {
     "name": "stderr",
     "output_type": "stream",
     "text": [
      "/usr/lib/python3/dist-packages/requests/__init__.py:89: RequestsDependencyWarning: urllib3 (1.26.11) or chardet (3.0.4) doesn't match a supported version!\n",
      "  warnings.warn(\"urllib3 ({}) or chardet ({}) doesn't match a supported \"\n"
     ]
    }
   ],
   "source": [
    "#import modules\n",
    "import selenium\n",
    "import pandas\n",
    "from selenium import webdriver\n",
    "from webdriver_manager.chrome import ChromeDriverManager\n",
    "import warnings \n",
    "warnings.filterwarnings('ignore')\n",
    "from selenium.webdriver.common.by import By\n",
    "from selenium.webdriver.common.action_chains import ActionChains\n",
    "import bs4 as bs\n",
    "import requests\n",
    "import re\n"
   ]
  },
  {
   "cell_type": "code",
   "execution_count": 2,
   "metadata": {},
   "outputs": [
    {
     "name": "stdout",
     "output_type": "stream",
     "text": [
      "\n"
     ]
    }
   ],
   "source": [
    "#getting the driver\n",
    "driver  = webdriver.Chrome(ChromeDriverManager().install())\n",
    "#getting url link\n",
    "url = \"https://www.linkedin.com/jobs/search/?distance=25&geoId=91000000&keywords=full%20stack%20developer\""
   ]
  },
  {
   "cell_type": "code",
   "execution_count": 3,
   "metadata": {},
   "outputs": [],
   "source": [
    "#reading the the page\n",
    "driver.get(url)"
   ]
  },
  {
   "cell_type": "code",
   "execution_count": 4,
   "metadata": {},
   "outputs": [],
   "source": [
    "#get element by class name\n",
    "div_cont = driver.find_element(By.CLASS_NAME, \"base-search-card__info\")\n"
   ]
  },
  {
   "cell_type": "code",
   "execution_count": 5,
   "metadata": {},
   "outputs": [],
   "source": [
    "div_cont_html = div_cont.get_attribute('innerHTML')"
   ]
  },
  {
   "cell_type": "code",
   "execution_count": 6,
   "metadata": {},
   "outputs": [],
   "source": [
    "soup = bs.BeautifulSoup(div_cont_html, \"html.parser\")"
   ]
  },
  {
   "cell_type": "code",
   "execution_count": 7,
   "metadata": {},
   "outputs": [
    {
     "name": "stdout",
     "output_type": "stream",
     "text": [
      "https://uk.linkedin.com/company/vivid-resourcing-ltd?trk=public_jobs_jserp-result_job-search-card-subtitle\n"
     ]
    }
   ],
   "source": [
    "#job title\n",
    "job_title = (soup.find(\"h3\", class_=\"base-search-card__title\").text).strip()\n",
    "#job location\n",
    "job_location = (soup.find(\"span\", class_=\"job-search-card__location\").text).strip()\n",
    "#company\n",
    "company = (soup.find(\"a\", class_=\"hidden-nested-link\").text).strip()\n",
    "#benefits\n",
    "benefit = (soup.find(\"span\", class_=\"result-benefits__text\").text).strip()\n",
    "#link\n",
    "link =(driver.find_element(By.CLASS_NAME, \"hidden-nested-link\").get_attribute('href'))\n",
    "print(link)"
   ]
  },
  {
   "cell_type": "code",
   "execution_count": 8,
   "metadata": {},
   "outputs": [],
   "source": [
    "#create a dictionary\n",
    "job = {\n",
    "    1 :{\n",
    "        \"Job Title\" : job_title,\n",
    "        \"Job Location\": job_location,\n",
    "        \"Company\" : company,\n",
    "        \"Advantage\" : benefit,\n",
    "        \"Link\" : link\n",
    "    }\n",
    "}"
   ]
  },
  {
   "cell_type": "code",
   "execution_count": 9,
   "metadata": {},
   "outputs": [
    {
     "data": {
      "text/plain": [
       "25"
      ]
     },
     "execution_count": 9,
     "metadata": {},
     "output_type": "execute_result"
    }
   ],
   "source": [
    "#get multiple elements by classname\n",
    "div_conts = driver.find_elements(By.CLASS_NAME, \"base-search-card__info\")\n",
    "len(div_conts)"
   ]
  },
  {
   "cell_type": "code",
   "execution_count": 11,
   "metadata": {},
   "outputs": [
    {
     "data": {
      "text/plain": [
       "{1: {'Job Title': 'Junior Software Engineer',\n",
       "  'Job Location': 'Brussels, Brussels Region, Belgium',\n",
       "  'Company': 'Vivid Resourcing Ltd',\n",
       "  'Advantage': 'Actively Hiring',\n",
       "  'Link': 'https://uk.linkedin.com/company/vivid-resourcing-ltd?trk=public_jobs_jserp-result_job-search-card-subtitle'}}"
      ]
     },
     "execution_count": 11,
     "metadata": {},
     "output_type": "execute_result"
    }
   ],
   "source": [
    "job"
   ]
  },
  {
   "cell_type": "code",
   "execution_count": 10,
   "metadata": {},
   "outputs": [
    {
     "data": {
      "text/plain": [
       "'<h3 class=\"base-search-card__title\">\\n Junior Software Engineer\\n</h3>\\n<h4 class=\"base-search-card__subtitle\">\\n <a class=\"hidden-nested-link\" data-tracking-client-ingraph=\"\" data-tracking-control-name=\"public_jobs_jserp-result_job-search-card-subtitle\" data-tracking-will-navigate=\"\" href=\"https://uk.linkedin.com/company/vivid-resourcing-ltd?trk=public_jobs_jserp-result_job-search-card-subtitle\">\\n  Vivid Resourcing Ltd\\n </a>\\n</h4>\\n<!-- -->\\n<div class=\"base-search-card__metadata\">\\n <span class=\"job-search-card__location\">\\n  Brussels, Brussels Region, Belgium\\n </span>\\n <!-- -->\\n <div class=\"job-search-card__benefits\">\\n  <div class=\"result-benefits\">\\n   <icon aria-hidden=\"true\" class=\"result-benefits__icon lazy-loaded\" data-svg-class-name=\"result-benefits__icon-svg\">\\n    <svg class=\"result-benefits__icon-svg lazy-loaded\" fill=\"none\" focusable=\"false\" height=\"24\" viewbox=\"0 0 24 24\" width=\"24\" xmlns=\"http://www.w3.org/2000/svg\">\\n     <path d=\"M12 20C7.6 20 4 16.4 4 12C4 7.6 7.6 4 12 4C13.8 4 15.5 4.6 16.9 5.7L15.5 7.1C14.5 6.4 13.3 6 12 6C8.7 6 6 8.7 6 12C6 15.3 8.7 18 12 18C15.3 18 18 15.3 18 12C18 10.7 17.6 9.5 16.9 8.5L20.7 4.7C20.9 4.5 21 4.3 21 4C21 3.7 20.9 3.5 20.7 3.3C20.5 3.1 20.3 3 20 3C19.7 3 19.5 3.1 19.3 3.3L18.3 4.3C16.6 2.8 14.4 2 12 2C6.5 2 2 6.5 2 12C2 17.5 6.5 22 12 22C17.5 22 22 17.5 22 12H20C20 16.4 16.4 20 12 20ZM17 12C17 14.8 14.8 17 12 17C9.2 17 7 14.8 7 12C7 9.2 9.2 7 12 7C13 7 14 7.3 14.8 7.8L12.6 10C12.3 10 12.2 10 12 10C10.9 10 10 10.9 10 12C10 13.1 10.9 14 12 14C13.1 14 14 13.1 14 12C14 11.8 14 11.7 13.9 11.5L16.1 9.3C16.7 10 17 11 17 12Z\" fill=\"currentColor\">\\n     </path>\\n    </svg>\\n   </icon>\\n   <span class=\"result-benefits__text\">\\n    Actively Hiring\\n    <!-- -->\\n   </span>\\n  </div>\\n </div>\\n <!-- -->\\n <time class=\"job-search-card__listdate\" datetime=\"2022-07-07\">\\n  2 weeks ago\\n </time>\\n <!-- -->\\n</div>\\n'"
      ]
     },
     "execution_count": 10,
     "metadata": {},
     "output_type": "execute_result"
    }
   ],
   "source": [
    "soup.prettify()"
   ]
  }
 ],
 "metadata": {
  "kernelspec": {
   "display_name": "Python 3.8.10 64-bit",
   "language": "python",
   "name": "python3"
  },
  "language_info": {
   "codemirror_mode": {
    "name": "ipython",
    "version": 3
   },
   "file_extension": ".py",
   "mimetype": "text/x-python",
   "name": "python",
   "nbconvert_exporter": "python",
   "pygments_lexer": "ipython3",
   "version": "3.8.10"
  },
  "orig_nbformat": 4,
  "vscode": {
   "interpreter": {
    "hash": "916dbcbb3f70747c44a77c7bcd40155683ae19c65e1c03b4aa3499c5328201f1"
   }
  }
 },
 "nbformat": 4,
 "nbformat_minor": 2
}
